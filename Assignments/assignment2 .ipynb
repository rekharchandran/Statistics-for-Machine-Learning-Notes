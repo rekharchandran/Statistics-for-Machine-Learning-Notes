{
  "nbformat": 4,
  "nbformat_minor": 0,
  "metadata": {
    "colab": {
      "provenance": []
    },
    "kernelspec": {
      "name": "python3",
      "display_name": "Python 3"
    },
    "language_info": {
      "name": "python"
    }
  },
  "cells": [
    {
      "cell_type": "markdown",
      "source": [
        "#### Q1. Dataset Division and Shuffling"
      ],
      "metadata": {
        "id": "9O_2bgPFad2f"
      }
    },
    {
      "cell_type": "code",
      "source": [
        "#from google.colab import files\n",
        "uploaded = files.upload()\n"
      ],
      "metadata": {
        "colab": {
          "base_uri": "https://localhost:8080/",
          "height": 73
        },
        "id": "2s0fe01PTFoh",
        "outputId": "c74ca15f-da32-40a1-8049-c4d77981a97b"
      },
      "execution_count": null,
      "outputs": [
        {
          "output_type": "display_data",
          "data": {
            "text/plain": [
              "<IPython.core.display.HTML object>"
            ],
            "text/html": [
              "\n",
              "     <input type=\"file\" id=\"files-144e1618-d0d5-4992-a33c-53e29bb234fb\" name=\"files[]\" multiple disabled\n",
              "        style=\"border:none\" />\n",
              "     <output id=\"result-144e1618-d0d5-4992-a33c-53e29bb234fb\">\n",
              "      Upload widget is only available when the cell has been executed in the\n",
              "      current browser session. Please rerun this cell to enable.\n",
              "      </output>\n",
              "      <script>// Copyright 2017 Google LLC\n",
              "//\n",
              "// Licensed under the Apache License, Version 2.0 (the \"License\");\n",
              "// you may not use this file except in compliance with the License.\n",
              "// You may obtain a copy of the License at\n",
              "//\n",
              "//      http://www.apache.org/licenses/LICENSE-2.0\n",
              "//\n",
              "// Unless required by applicable law or agreed to in writing, software\n",
              "// distributed under the License is distributed on an \"AS IS\" BASIS,\n",
              "// WITHOUT WARRANTIES OR CONDITIONS OF ANY KIND, either express or implied.\n",
              "// See the License for the specific language governing permissions and\n",
              "// limitations under the License.\n",
              "\n",
              "/**\n",
              " * @fileoverview Helpers for google.colab Python module.\n",
              " */\n",
              "(function(scope) {\n",
              "function span(text, styleAttributes = {}) {\n",
              "  const element = document.createElement('span');\n",
              "  element.textContent = text;\n",
              "  for (const key of Object.keys(styleAttributes)) {\n",
              "    element.style[key] = styleAttributes[key];\n",
              "  }\n",
              "  return element;\n",
              "}\n",
              "\n",
              "// Max number of bytes which will be uploaded at a time.\n",
              "const MAX_PAYLOAD_SIZE = 100 * 1024;\n",
              "\n",
              "function _uploadFiles(inputId, outputId) {\n",
              "  const steps = uploadFilesStep(inputId, outputId);\n",
              "  const outputElement = document.getElementById(outputId);\n",
              "  // Cache steps on the outputElement to make it available for the next call\n",
              "  // to uploadFilesContinue from Python.\n",
              "  outputElement.steps = steps;\n",
              "\n",
              "  return _uploadFilesContinue(outputId);\n",
              "}\n",
              "\n",
              "// This is roughly an async generator (not supported in the browser yet),\n",
              "// where there are multiple asynchronous steps and the Python side is going\n",
              "// to poll for completion of each step.\n",
              "// This uses a Promise to block the python side on completion of each step,\n",
              "// then passes the result of the previous step as the input to the next step.\n",
              "function _uploadFilesContinue(outputId) {\n",
              "  const outputElement = document.getElementById(outputId);\n",
              "  const steps = outputElement.steps;\n",
              "\n",
              "  const next = steps.next(outputElement.lastPromiseValue);\n",
              "  return Promise.resolve(next.value.promise).then((value) => {\n",
              "    // Cache the last promise value to make it available to the next\n",
              "    // step of the generator.\n",
              "    outputElement.lastPromiseValue = value;\n",
              "    return next.value.response;\n",
              "  });\n",
              "}\n",
              "\n",
              "/**\n",
              " * Generator function which is called between each async step of the upload\n",
              " * process.\n",
              " * @param {string} inputId Element ID of the input file picker element.\n",
              " * @param {string} outputId Element ID of the output display.\n",
              " * @return {!Iterable<!Object>} Iterable of next steps.\n",
              " */\n",
              "function* uploadFilesStep(inputId, outputId) {\n",
              "  const inputElement = document.getElementById(inputId);\n",
              "  inputElement.disabled = false;\n",
              "\n",
              "  const outputElement = document.getElementById(outputId);\n",
              "  outputElement.innerHTML = '';\n",
              "\n",
              "  const pickedPromise = new Promise((resolve) => {\n",
              "    inputElement.addEventListener('change', (e) => {\n",
              "      resolve(e.target.files);\n",
              "    });\n",
              "  });\n",
              "\n",
              "  const cancel = document.createElement('button');\n",
              "  inputElement.parentElement.appendChild(cancel);\n",
              "  cancel.textContent = 'Cancel upload';\n",
              "  const cancelPromise = new Promise((resolve) => {\n",
              "    cancel.onclick = () => {\n",
              "      resolve(null);\n",
              "    };\n",
              "  });\n",
              "\n",
              "  // Wait for the user to pick the files.\n",
              "  const files = yield {\n",
              "    promise: Promise.race([pickedPromise, cancelPromise]),\n",
              "    response: {\n",
              "      action: 'starting',\n",
              "    }\n",
              "  };\n",
              "\n",
              "  cancel.remove();\n",
              "\n",
              "  // Disable the input element since further picks are not allowed.\n",
              "  inputElement.disabled = true;\n",
              "\n",
              "  if (!files) {\n",
              "    return {\n",
              "      response: {\n",
              "        action: 'complete',\n",
              "      }\n",
              "    };\n",
              "  }\n",
              "\n",
              "  for (const file of files) {\n",
              "    const li = document.createElement('li');\n",
              "    li.append(span(file.name, {fontWeight: 'bold'}));\n",
              "    li.append(span(\n",
              "        `(${file.type || 'n/a'}) - ${file.size} bytes, ` +\n",
              "        `last modified: ${\n",
              "            file.lastModifiedDate ? file.lastModifiedDate.toLocaleDateString() :\n",
              "                                    'n/a'} - `));\n",
              "    const percent = span('0% done');\n",
              "    li.appendChild(percent);\n",
              "\n",
              "    outputElement.appendChild(li);\n",
              "\n",
              "    const fileDataPromise = new Promise((resolve) => {\n",
              "      const reader = new FileReader();\n",
              "      reader.onload = (e) => {\n",
              "        resolve(e.target.result);\n",
              "      };\n",
              "      reader.readAsArrayBuffer(file);\n",
              "    });\n",
              "    // Wait for the data to be ready.\n",
              "    let fileData = yield {\n",
              "      promise: fileDataPromise,\n",
              "      response: {\n",
              "        action: 'continue',\n",
              "      }\n",
              "    };\n",
              "\n",
              "    // Use a chunked sending to avoid message size limits. See b/62115660.\n",
              "    let position = 0;\n",
              "    do {\n",
              "      const length = Math.min(fileData.byteLength - position, MAX_PAYLOAD_SIZE);\n",
              "      const chunk = new Uint8Array(fileData, position, length);\n",
              "      position += length;\n",
              "\n",
              "      const base64 = btoa(String.fromCharCode.apply(null, chunk));\n",
              "      yield {\n",
              "        response: {\n",
              "          action: 'append',\n",
              "          file: file.name,\n",
              "          data: base64,\n",
              "        },\n",
              "      };\n",
              "\n",
              "      let percentDone = fileData.byteLength === 0 ?\n",
              "          100 :\n",
              "          Math.round((position / fileData.byteLength) * 100);\n",
              "      percent.textContent = `${percentDone}% done`;\n",
              "\n",
              "    } while (position < fileData.byteLength);\n",
              "  }\n",
              "\n",
              "  // All done.\n",
              "  yield {\n",
              "    response: {\n",
              "      action: 'complete',\n",
              "    }\n",
              "  };\n",
              "}\n",
              "\n",
              "scope.google = scope.google || {};\n",
              "scope.google.colab = scope.google.colab || {};\n",
              "scope.google.colab._files = {\n",
              "  _uploadFiles,\n",
              "  _uploadFilesContinue,\n",
              "};\n",
              "})(self);\n",
              "</script> "
            ]
          },
          "metadata": {}
        },
        {
          "output_type": "stream",
          "name": "stdout",
          "text": [
            "Saving Accident_data.xlsx to Accident_data.xlsx\n"
          ]
        }
      ]
    },
    {
      "cell_type": "code",
      "execution_count": 1,
      "metadata": {
        "id": "6tGtN8RKPt5X"
      },
      "outputs": [],
      "source": [
        "import pandas as pd\n",
        "from sklearn.model_selection import train_test_split\n",
        "from matplotlib import pyplot as plt\n",
        "from sklearn.linear_model import LinearRegression\n",
        "clf = LinearRegression()\n",
        "import seaborn as sns"
      ]
    },
    {
      "cell_type": "code",
      "source": [
        "from google.colab import drive\n",
        "drive.mount('/content/drive/')"
      ],
      "metadata": {
        "colab": {
          "base_uri": "https://localhost:8080/"
        },
        "id": "KZRjXSDjRVRj",
        "outputId": "a0d462f6-385f-4f24-bc6b-1bb1c1495a84"
      },
      "execution_count": 2,
      "outputs": [
        {
          "output_type": "stream",
          "name": "stdout",
          "text": [
            "Mounted at /content/drive/\n"
          ]
        }
      ]
    },
    {
      "cell_type": "code",
      "source": [
        "# Load the dataset\n",
        "df = pd.read_excel('/content/drive/MyDrive/Accident_data.xlsx')"
      ],
      "metadata": {
        "id": "PInb6RVVRbjy"
      },
      "execution_count": 3,
      "outputs": []
    },
    {
      "cell_type": "code",
      "source": [
        "print(df.head())"
      ],
      "metadata": {
        "colab": {
          "base_uri": "https://localhost:8080/"
        },
        "id": "fjZHHmquVPTS",
        "outputId": "a56aba97-ff66-420a-a543-fb6f2623ed88"
      },
      "execution_count": 4,
      "outputs": [
        {
          "output_type": "stream",
          "name": "stdout",
          "text": [
            "             statelabel  'Census ID'  'Centroid Longitude'  \\\n",
            "0               Wyoming           56           -107.555625   \n",
            "1  District of Columbia           11            -77.026928   \n",
            "2               Vermont           50            -72.556496   \n",
            "3                Alaska            2           -152.459342   \n",
            "4          North Dakota           38            -99.499793   \n",
            "\n",
            "   'Centroid Latitude'  'Traffic fatalities'  'Licensed drivers (thousands)'  \\\n",
            "0            43.032664                   164                         380.180   \n",
            "1            38.892064                    43                         349.122   \n",
            "2            44.043498                    98                         550.462   \n",
            "3            64.609656                   101                         482.532   \n",
            "4            47.469117                   100                         461.780   \n",
            "\n",
            "   'Registered vehicles (thousands)'  'Vehicle-miles traveled (millions)'  \\\n",
            "0                            671.529                                 9261   \n",
            "1                            240.403                                 3742   \n",
            "2                            551.516                                 7855   \n",
            "3                            681.115                                 4990   \n",
            "4                            721.835                                 7594   \n",
            "\n",
            "   'Miles traveled per vehicle'  'Fatalities per 100K licensed drivers'  \\\n",
            "0                  13790.915954                               43.137461   \n",
            "1                  15565.529548                               12.316611   \n",
            "2                  14242.560506                               17.803227   \n",
            "3                   7326.222444                               20.931254   \n",
            "4                  10520.409789                               21.655334   \n",
            "\n",
            "   'Fatalities per 100K registered vehicles'  \\\n",
            "0                                  24.421879   \n",
            "1                                  17.886632   \n",
            "2                                  17.769203   \n",
            "3                                  14.828627   \n",
            "4                                  13.853581   \n",
            "\n",
            "   'Fatalities per 100M vehicle-miles traveled'  \\\n",
            "0                                      1.770867   \n",
            "1                                      1.149118   \n",
            "2                                      1.247613   \n",
            "3                                      2.024048   \n",
            "4                                      1.316829   \n",
            "\n",
            "   'Fatalities involving high blood alcohol'  'Percent Alcohol-Related'  \\\n",
            "0                                         54                  32.926829   \n",
            "1                                         12                  27.906977   \n",
            "2                                         20                  20.408163   \n",
            "3                                         30                  29.702970   \n",
            "4                                         35                  35.000000   \n",
            "\n",
            "   'Total Population'  'Urban Population'  'Rural Population'  \\\n",
            "0              493782              322073              171709   \n",
            "1              572059              572059                   0   \n",
            "2              608827              232550              376277   \n",
            "3              626932              411955              214977   \n",
            "4              642200              358394              283806   \n",
            "\n",
            "   'Pct Urban Population'  \n",
            "0               65.225747  \n",
            "1              100.000000  \n",
            "2               38.196401  \n",
            "3               65.709678  \n",
            "4               55.807225  \n"
          ]
        }
      ]
    },
    {
      "cell_type": "code",
      "source": [
        "data = {\n",
        "\n",
        "    'Census ID': [56, 11, 50, 2, 38],\n",
        "    'Centroid Longitude': [-107.555625, -77.026928, -72.556496, -152.459342, -99.499793],\n",
        "    'Centroid Latitude': [43.032664, 38.892064, 44.043498, 64.609656, 47.469117],\n",
        "    'Traffic fatalities': [164, 43, 98, 101, 100],\n",
        "    'Licensed drivers (thousands)': [380.180, 349.122, 550.462, 482.532, 461.780],\n",
        "    'Registered vehicles (thousands)': [671.529, 240.403, 551.516, 681.115, 721.835],\n",
        "    'Vehicle-miles traveled (millions)': [9261, 3742, 7855, 4990, 7594],\n",
        "    'Miles traveled per vehicle': [13790.915954, 15565.529548, 14242.560506, 7326.222444, 10520.409789],\n",
        "    'Fatalities per 100K licensed drivers': [43.137461, 12.316611, 17.803227, 20.931254, 21.655334],\n",
        "    'Fatalities per 100K registered vehicles': [24.421879, 17.886632, 17.769203, 14.828627, 13.853581],\n",
        "    'Fatalities per 100M vehicle-miles traveled': [1.770867, 1.149118, 1.247613, 2.024048, 1.316829],\n",
        "    'Fatalities involving high blood alcohol': [54, 12, 20, 30, 35],\n",
        "    'Percent Alcohol-Related': [32.926829, 27.906977, 20.408163, 29.702970, 35.0],\n",
        "    'Total Population': [493782, 572059, 608827, 626932, 642200],\n",
        "    'Urban Population': [322073, 572059, 232550, 411955, 358394],\n",
        "    'Rural Population': [171709, 0, 376277, 214977, 283806],\n",
        "    'Pct Urban Population': [65.225747, 100.0, 38.196401, 65.709678, 55.807225]\n",
        "}"
      ],
      "metadata": {
        "id": "ZcjDnRJ7Ygns"
      },
      "execution_count": 8,
      "outputs": []
    },
    {
      "cell_type": "code",
      "source": [
        "df = pd.DataFrame(data)\n",
        "\n",
        "# Compute the correlation matrix\n",
        "#correlation_matrix = df.corr()\n",
        "\n",
        "# Display the correlation matrix\n",
        "#print(\"Correlation Matrix:\\n\", correlation_matrix)\n",
        "\n",
        "# Filter columns with correlation close to 1 with the dependent variable 'Traffic fatalities'\n",
        "#threshold = 0.5  # Setting a lower threshold for more inclusiveness due to small sample size\n",
        "#high_corr_columns = correlation_matrix['Traffic fatalities'].abs().sort_values(ascending=False)\n",
        "#relevant_columns = high_corr_columns[high_corr_columns > threshold].index.tolist()\n",
        "\n",
        "#print(\"Relevant Columns:\\n\", relevant_columns)"
      ],
      "metadata": {
        "id": "VBagHhl7h71l"
      },
      "execution_count": 10,
      "outputs": []
    },
    {
      "cell_type": "code",
      "source": [
        "# Select the relevant columns\n",
        "data = df[[\"Traffic fatalities\", \"Fatalities per 100K licensed drivers\",\"Fatalities involving high blood alcohol\",\n",
        "            \"Vehicle-miles traveled (millions)\"]]"
      ],
      "metadata": {
        "id": "Y1JMvgnwjHHw"
      },
      "execution_count": 12,
      "outputs": []
    },
    {
      "cell_type": "code",
      "source": [
        "# Define the dependent and independent variables\n",
        "Y = df[\"Traffic fatalities\"]\n",
        "X = df[[\"Fatalities involving high blood alcohol\",\n",
        "        \"Fatalities per 100K licensed drivers\", \"Vehicle-miles traveled (millions)\"]]"
      ],
      "metadata": {
        "id": "TmwvSg8EjX_k"
      },
      "execution_count": 15,
      "outputs": []
    },
    {
      "cell_type": "code",
      "source": [
        "print('Dependent Variable:')\n",
        "print(Y.head())"
      ],
      "metadata": {
        "colab": {
          "base_uri": "https://localhost:8080/"
        },
        "id": "1Wej64vEkpon",
        "outputId": "17647491-a117-456e-f07a-7a82020aca96"
      },
      "execution_count": 16,
      "outputs": [
        {
          "output_type": "stream",
          "name": "stdout",
          "text": [
            "Dependent Variable:\n",
            "0    164\n",
            "1     43\n",
            "2     98\n",
            "3    101\n",
            "4    100\n",
            "Name: Traffic fatalities, dtype: int64\n"
          ]
        }
      ]
    },
    {
      "cell_type": "code",
      "source": [
        "print('Independent Variables:')\n",
        "print(X.head())"
      ],
      "metadata": {
        "colab": {
          "base_uri": "https://localhost:8080/"
        },
        "id": "l6gF8R85kykp",
        "outputId": "9f1451c7-130c-4dfe-80f4-082cc5c058a4"
      },
      "execution_count": 17,
      "outputs": [
        {
          "output_type": "stream",
          "name": "stdout",
          "text": [
            "Independent Variables:\n",
            "   Fatalities involving high blood alcohol  \\\n",
            "0                                       54   \n",
            "1                                       12   \n",
            "2                                       20   \n",
            "3                                       30   \n",
            "4                                       35   \n",
            "\n",
            "   Fatalities per 100K licensed drivers  Vehicle-miles traveled (millions)  \n",
            "0                             43.137461                               9261  \n",
            "1                             12.316611                               3742  \n",
            "2                             17.803227                               7855  \n",
            "3                             20.931254                               4990  \n",
            "4                             21.655334                               7594  \n"
          ]
        }
      ]
    },
    {
      "cell_type": "code",
      "source": [
        "# Shuffle the DataFrame\n",
        "shuffled_df = df.sample(frac=1, random_state=42).reset_index(drop=True)"
      ],
      "metadata": {
        "id": "Am6lBdmQk7Uk"
      },
      "execution_count": 18,
      "outputs": []
    },
    {
      "cell_type": "code",
      "source": [
        "# Redefine Y and X after shuffling\n",
        "Y_shuffled = shuffled_df[\"Traffic fatalities\"]\n",
        "X_shuffled = shuffled_df[[\"Fatalities involving high blood alcohol\",\n",
        "        \"Fatalities per 100K licensed drivers\", \"Vehicle-miles traveled (millions)\"]]"
      ],
      "metadata": {
        "id": "KddWkN_Ek8xQ"
      },
      "execution_count": 20,
      "outputs": []
    },
    {
      "cell_type": "code",
      "source": [
        "# Split the data into training and testing sets (80% train, 20% test)\n",
        "x_train, x_test, y_train, y_test = train_test_split(X_shuffled, Y_shuffled, test_size=0.2, random_state=42)"
      ],
      "metadata": {
        "id": "Rnwo3hg-YxVf"
      },
      "execution_count": 22,
      "outputs": []
    },
    {
      "cell_type": "code",
      "source": [
        "# Print the training and testing data\n",
        "print(\"Training Data\")\n",
        "print('X Train:')\n",
        "print(x_train.head())"
      ],
      "metadata": {
        "colab": {
          "base_uri": "https://localhost:8080/"
        },
        "id": "RYlCFuU-lcyA",
        "outputId": "8d956d46-014d-4d26-b753-eebae8b3912d"
      },
      "execution_count": 23,
      "outputs": [
        {
          "output_type": "stream",
          "name": "stdout",
          "text": [
            "Training Data\n",
            "X Train:\n",
            "   Fatalities involving high blood alcohol  \\\n",
            "4                                       30   \n",
            "2                                       20   \n",
            "0                                       12   \n",
            "3                                       54   \n",
            "\n",
            "   Fatalities per 100K licensed drivers  Vehicle-miles traveled (millions)  \n",
            "4                             20.931254                               4990  \n",
            "2                             17.803227                               7855  \n",
            "0                             12.316611                               3742  \n",
            "3                             43.137461                               9261  \n"
          ]
        }
      ]
    },
    {
      "cell_type": "code",
      "source": [
        "print('Y Train:')\n",
        "print(y_train.head())"
      ],
      "metadata": {
        "colab": {
          "base_uri": "https://localhost:8080/"
        },
        "id": "bxnfkK15lgQd",
        "outputId": "9e5164f6-c0bf-493f-d18d-dcc3c6f01b66"
      },
      "execution_count": 24,
      "outputs": [
        {
          "output_type": "stream",
          "name": "stdout",
          "text": [
            "Y Train:\n",
            "4    101\n",
            "2     98\n",
            "0     43\n",
            "3    164\n",
            "Name: Traffic fatalities, dtype: int64\n"
          ]
        }
      ]
    },
    {
      "cell_type": "code",
      "source": [
        "print(\"Testing Data\")\n",
        "print('X Test:')\n",
        "print(x_test.head())"
      ],
      "metadata": {
        "colab": {
          "base_uri": "https://localhost:8080/"
        },
        "id": "LTyWN1qhlqVx",
        "outputId": "b2c10a7a-19c0-46e7-d435-2b3821272c9b"
      },
      "execution_count": 25,
      "outputs": [
        {
          "output_type": "stream",
          "name": "stdout",
          "text": [
            "Testing Data\n",
            "X Test:\n",
            "   Fatalities involving high blood alcohol  \\\n",
            "1                                       35   \n",
            "\n",
            "   Fatalities per 100K licensed drivers  Vehicle-miles traveled (millions)  \n",
            "1                             21.655334                               7594  \n"
          ]
        }
      ]
    },
    {
      "cell_type": "code",
      "source": [
        "print('Y Test:')\n",
        "print(y_test.head())"
      ],
      "metadata": {
        "colab": {
          "base_uri": "https://localhost:8080/"
        },
        "id": "NtZn4QnjluLC",
        "outputId": "47e1d3f8-2021-4fb4-f2aa-8094209f2a14"
      },
      "execution_count": 26,
      "outputs": [
        {
          "output_type": "stream",
          "name": "stdout",
          "text": [
            "Y Test:\n",
            "1    100\n",
            "Name: Traffic fatalities, dtype: int64\n"
          ]
        }
      ]
    },
    {
      "cell_type": "code",
      "source": [],
      "metadata": {
        "id": "VL95m5i3l7BD"
      },
      "execution_count": null,
      "outputs": []
    },
    {
      "cell_type": "markdown",
      "source": [
        "#### Q2. Linear Regression using Analytical Method (Pseudo Inverse)"
      ],
      "metadata": {
        "id": "9KhobR0ZXdAV"
      }
    },
    {
      "cell_type": "code",
      "source": [
        "import pandas as pd\n",
        "import numpy as np\n",
        "from sklearn.model_selection import train_test_split\n",
        "from sklearn.metrics import mean_squared_error"
      ],
      "metadata": {
        "id": "tF0G_MZqp1uO"
      },
      "execution_count": 42,
      "outputs": []
    },
    {
      "cell_type": "code",
      "source": [
        "df = pd.read_excel('/content/drive/MyDrive/Accident_data.xlsx')"
      ],
      "metadata": {
        "id": "LNhTQbw-qGRz"
      },
      "execution_count": 43,
      "outputs": []
    },
    {
      "cell_type": "code",
      "source": [
        "#  Drop unnecessary columns\n",
        "df_filtered = df.drop([\"statelabel\", \"'Census ID'\", \"'Centroid Longitude'\", \"'Centroid Latitude'\"], axis=1)"
      ],
      "metadata": {
        "id": "ew2QTQ6Up4tt"
      },
      "execution_count": 44,
      "outputs": []
    },
    {
      "cell_type": "code",
      "source": [
        "# Create a correlation matrix\n",
        "df_correlation_matrix = df_filtered.corr()"
      ],
      "metadata": {
        "id": "vG3lGLA_qX0n"
      },
      "execution_count": 45,
      "outputs": []
    },
    {
      "cell_type": "code",
      "source": [
        "# Select columns with correlation > |0.80|\n",
        "threshold = 0.80\n",
        "to_drop = []\n",
        "to_keep = []\n",
        "for label in df_correlation_matrix.loc[\"'Traffic fatalities'\"].keys():\n",
        "    val = df_correlation_matrix.loc[\"'Traffic fatalities'\"][label]\n",
        "    if abs(val) < threshold and label not in to_drop:\n",
        "        to_drop.append(label)\n",
        "    if abs(val) >= threshold and label not in to_drop:\n",
        "        to_keep.append(label)"
      ],
      "metadata": {
        "id": "s_0yoOkDqc-3"
      },
      "execution_count": 46,
      "outputs": []
    },
    {
      "cell_type": "code",
      "source": [
        "# Drop columns that do not satisfy the threshold\n",
        "for col in to_drop:\n",
        "    df_filtered.drop(col, axis=1, inplace=True)\n"
      ],
      "metadata": {
        "id": "a_BhnMHXqiVV"
      },
      "execution_count": 47,
      "outputs": []
    },
    {
      "cell_type": "code",
      "source": [
        "#Create training and testing datasets\n",
        "train, test = train_test_split(df_filtered, test_size=0.20, random_state=42)"
      ],
      "metadata": {
        "id": "YaRHpmBRrECa"
      },
      "execution_count": 48,
      "outputs": []
    },
    {
      "cell_type": "code",
      "source": [
        "# Extract dependent variable \"Traffic fatalities\" (T) and independent variables (Theta)\n",
        "x_train = train.drop([\"'Traffic fatalities'\"], axis=1)\n",
        "y_train = train[\"'Traffic fatalities'\"]\n",
        "x_test = test.drop([\"'Traffic fatalities'\"], axis=1)\n",
        "y_test = test[\"'Traffic fatalities'\"]"
      ],
      "metadata": {
        "id": "8TVeOhedq2Go"
      },
      "execution_count": 49,
      "outputs": []
    },
    {
      "cell_type": "code",
      "source": [
        "newMatrix = x_train.to_numpy()\n",
        "for i in range(2, 11):  # Here, up to 10th degree\n",
        "    subMatrix = np.power(x_train, i).to_numpy()\n",
        "    newMatrix = np.concatenate((newMatrix, subMatrix), axis=1)"
      ],
      "metadata": {
        "id": "evfns_uPv3vu"
      },
      "execution_count": 60,
      "outputs": []
    },
    {
      "cell_type": "code",
      "source": [
        "rows, cols = newMatrix.shape\n",
        "arrayAllOnes = np.ones((rows, 1))\n",
        "theta = np.concatenate((arrayAllOnes, newMatrix), axis=1)"
      ],
      "metadata": {
        "id": "FZm4o5MurM-3"
      },
      "execution_count": 61,
      "outputs": []
    },
    {
      "cell_type": "code",
      "source": [
        "\n",
        "# Calculate w_opt using the analytical expression for least squares\n",
        "theta_t = theta.T\n",
        "theta_mul = np.matmul(theta_t, theta)\n",
        "theta_inv = np.linalg.inv(theta_mul)\n",
        "theta_inv_theta_t = np.matmul(theta_inv, theta_t)\n",
        "wopt = np.matmul(theta_inv_theta_t, y_train)"
      ],
      "metadata": {
        "id": "fsz31WKSrS8s"
      },
      "execution_count": 62,
      "outputs": []
    },
    {
      "cell_type": "code",
      "source": [
        "#  Use w_opt to calculate T predicted using test dataset and evaluate SSE\n",
        "newMatrix_test = x_test.to_numpy()\n",
        "for i in range(2, 11):\n",
        "    subMatrix_test = np.power(x_test, i).to_numpy()\n",
        "    newMatrix_test = np.concatenate((newMatrix_test, subMatrix_test), axis=1)\n",
        "\n",
        "rows_test, cols_test = newMatrix_test.shape\n",
        "arrayAllOnes_test = np.ones((rows_test, 1))\n",
        "theta_test = np.concatenate((arrayAllOnes_test, newMatrix_test), axis=1)\n",
        "\n",
        "y_predicted_test = np.matmul(theta_test, wopt)\n",
        "sse = sum((y_test - y_predicted_test) ** 2) / 2"
      ],
      "metadata": {
        "id": "91C_qTNkra_Q"
      },
      "execution_count": 63,
      "outputs": []
    },
    {
      "cell_type": "code",
      "source": [
        "# Calculate Mean Squared Error (MSE)\n",
        "mse = mean_squared_error(y_test, y_predicted_test)"
      ],
      "metadata": {
        "id": "wS8plN1zrg1A"
      },
      "execution_count": 64,
      "outputs": []
    },
    {
      "cell_type": "code",
      "source": [
        "# Print results\n",
        "print(\"Optimal Weights (wopt):\\n\", wopt)\n",
        "print(\"Sum of Squared Errors (SSE):\", sse)\n",
        "print(\"Mean Squared Error (MSE):\", mse)"
      ],
      "metadata": {
        "colab": {
          "base_uri": "https://localhost:8080/"
        },
        "id": "TDf5MJusrnV2",
        "outputId": "393416ee-83b4-4bb3-d8f3-e9a6fc8591e8"
      },
      "execution_count": 65,
      "outputs": [
        {
          "output_type": "stream",
          "name": "stdout",
          "text": [
            "Optimal Weights (wopt):\n",
            " [ 6.28301487e+08 -2.11290514e+06 -3.85042631e+05  2.04567904e+05\n",
            " -1.09515105e+07 -4.15381405e+02  9.09658526e+02 -9.20329336e+01\n",
            "  5.65240699e+01 -5.22040226e-01  2.10222241e+03  3.03428435e-05\n",
            "  6.20625313e-05 -4.71720451e-03 -4.59804803e-04 -1.01249153e-06\n",
            "  1.38579531e+01 -2.22781822e-10 -8.50948399e-11 -3.38485341e-07\n",
            "  1.20276231e-07 -6.07819204e-11  1.32064581e-02 -6.02143278e-11\n",
            "  5.78120501e-11 -1.82447999e-11  5.89604013e-14  1.14234567e-10\n",
            "  6.90710828e-06 -1.38525635e-11 -6.80138937e-11 -1.73144365e-16\n",
            "  2.48453565e-17  3.61818157e-11 -1.08436409e-08 -7.12578188e-11\n",
            " -1.17328197e-12 -1.90015910e-20 -1.93036250e-21 -6.72614300e-11\n",
            " -3.64675365e-10  1.57546095e-10  1.49888914e-10  7.82164965e-25\n",
            " -3.37376142e-26  2.96691457e-12  2.70840525e-11  4.27345388e-12\n",
            " -1.25723420e-10  1.74666751e-29  6.36379473e-30  1.03306331e-10\n",
            " -4.48823884e-11  6.07805590e-11 -1.23028281e-10 -1.97414927e-33\n",
            " -5.11445017e-36  2.69345199e-11  1.41347538e-10 -5.52686948e-11\n",
            " -6.24941171e-11]\n",
            "Sum of Squared Errors (SSE): 4.136673710884731e+19\n",
            "Mean Squared Error (MSE): 7.521224928881329e+18\n"
          ]
        }
      ]
    },
    {
      "cell_type": "markdown",
      "source": [
        "##### Q3. Another Relationship Between Input and Output Variables"
      ],
      "metadata": {
        "id": "wXhJRouJuSMO"
      }
    },
    {
      "cell_type": "code",
      "source": [
        "import pandas as pd\n",
        "import numpy as np\n",
        "from sklearn.model_selection import train_test_split\n",
        "from sklearn.metrics import mean_squared_error"
      ],
      "metadata": {
        "id": "r0COzCheulvh"
      },
      "execution_count": null,
      "outputs": []
    },
    {
      "cell_type": "code",
      "source": [
        "df = pd.read_excel('/content/drive/MyDrive/Accident_data.xlsx')"
      ],
      "metadata": {
        "id": "LHKGPQ44z4qR"
      },
      "execution_count": null,
      "outputs": []
    },
    {
      "cell_type": "code",
      "source": [
        "# Drop unnecessary columns\n",
        "df_filtered = df.drop([\"statelabel\", \"'Census ID'\", \"'Centroid Longitude'\", \"'Centroid Latitude'\"], axis=1)"
      ],
      "metadata": {
        "id": "tLZRLtgmz5WH"
      },
      "execution_count": 66,
      "outputs": []
    },
    {
      "cell_type": "code",
      "source": [
        "#  Create a correlation matrix\n",
        "df_correlation_matrix = df_filtered.corr()"
      ],
      "metadata": {
        "id": "uW1JLUqQz93k"
      },
      "execution_count": 67,
      "outputs": []
    },
    {
      "cell_type": "code",
      "source": [
        "# Select columns with correlation > |0.80| (for example)\n",
        "threshold = 0.80\n",
        "to_drop = []\n",
        "to_keep = []\n",
        "for label in df_correlation_matrix.loc[\"'Fatalities per 100K licensed drivers'\"].keys():\n",
        "    val = df_correlation_matrix.loc[\"'Fatalities per 100K licensed drivers'\"][label]\n",
        "    if abs(val) < threshold and label not in to_drop:\n",
        "        to_drop.append(label)\n",
        "    if abs(val) >= threshold and label not in to_drop:\n",
        "        to_keep.append(label)"
      ],
      "metadata": {
        "id": "70Ku04fV0BDD"
      },
      "execution_count": 68,
      "outputs": []
    },
    {
      "cell_type": "code",
      "source": [
        "# Drop columns that do not satisfy the threshold\n",
        "for col in to_drop:\n",
        "    df_filtered.drop(col, axis=1, inplace=True)"
      ],
      "metadata": {
        "id": "gs8pDX-u0FZl"
      },
      "execution_count": 69,
      "outputs": []
    },
    {
      "cell_type": "code",
      "source": [
        "# Create training and testing datasets for the new target variable\n",
        "train, test = train_test_split(df_filtered, test_size=0.20, random_state=42)"
      ],
      "metadata": {
        "id": "vCjr_BHv0Lo2"
      },
      "execution_count": 70,
      "outputs": []
    },
    {
      "cell_type": "code",
      "source": [
        "#  Extract dependent variable \"'Fatalities per 100K licensed drivers'\" (T) and independent variables (Theta)\n",
        "x_train = train.drop([\"'Fatalities per 100K licensed drivers'\"], axis=1)\n",
        "y_train = train[\"'Fatalities per 100K licensed drivers'\"]\n",
        "x_test = test.drop([\"'Fatalities per 100K licensed drivers'\"], axis=1)\n",
        "y_test = test[\"'Fatalities per 100K licensed drivers'\"]"
      ],
      "metadata": {
        "id": "WMzs7SwX0Mli"
      },
      "execution_count": 71,
      "outputs": []
    },
    {
      "cell_type": "code",
      "source": [
        "# Create Theta matrix with higher-order terms up to 15th degree\n",
        "newMatrix = x_train.to_numpy()\n",
        "for i in range(2, 16):  # Here, up to 15th degree\n",
        "    subMatrix = np.power(x_train, i).to_numpy()\n",
        "    newMatrix = np.concatenate((newMatrix, subMatrix), axis=1)\n",
        "\n",
        "rows, cols = newMatrix.shape\n",
        "arrayAllOnes = np.ones((rows, 1))\n",
        "theta = np.concatenate((arrayAllOnes, newMatrix), axis=1)"
      ],
      "metadata": {
        "id": "IjGkXfYF0SzU"
      },
      "execution_count": 73,
      "outputs": []
    },
    {
      "cell_type": "code",
      "source": [
        "#Calculate w_opt using the analytical expression for least squares\n",
        "theta_t = theta.T\n",
        "theta_mul = np.matmul(theta_t, theta)\n",
        "theta_inv = np.linalg.inv(theta_mul)\n",
        "theta_inv_theta_t = np.matmul(theta_inv, theta_t)\n",
        "wopt = np.matmul(theta_inv_theta_t, y_train)"
      ],
      "metadata": {
        "id": "8M26ryz40XIN"
      },
      "execution_count": 75,
      "outputs": []
    },
    {
      "cell_type": "code",
      "source": [
        "# Use w_opt to calculate T predicted using test dataset and evaluate SSE\n",
        "newMatrix_test = x_test.to_numpy()\n",
        "for i in range(2, 16):  # Up to 15th degree\n",
        "    subMatrix_test = np.power(x_test, i).to_numpy()\n",
        "    newMatrix_test = np.concatenate((newMatrix_test, subMatrix_test), axis=1)\n",
        "\n",
        "rows_test, cols_test = newMatrix_test.shape\n",
        "arrayAllOnes_test = np.ones((rows_test, 1))\n",
        "theta_test = np.concatenate((arrayAllOnes_test, newMatrix_test), axis=1)\n",
        "\n",
        "y_predicted_test = np.matmul(theta_test, wopt)\n",
        "sse = sum((y_test - y_predicted_test) ** 2) / 2"
      ],
      "metadata": {
        "id": "qjXV9Jss0cxr"
      },
      "execution_count": 77,
      "outputs": []
    },
    {
      "cell_type": "code",
      "source": [
        "# Calculate Mean Squared Error (MSE)\n",
        "mse = mean_squared_error(y_test, y_predicted_test)"
      ],
      "metadata": {
        "id": "InyoLaWr0T8V"
      },
      "execution_count": 78,
      "outputs": []
    },
    {
      "cell_type": "code",
      "source": [
        "# Print results\n",
        "print(\"Optimal Weights (wopt):\\n\", wopt)\n",
        "print(\"Sum of Squared Errors (SSE):\", sse)\n",
        "print(\"Mean Squared Error (MSE):\", mse)"
      ],
      "metadata": {
        "colab": {
          "base_uri": "https://localhost:8080/"
        },
        "id": "W22X4aua0meL",
        "outputId": "c61284ba-68d5-4138-8a7f-296ce4d5b854"
      },
      "execution_count": 79,
      "outputs": [
        {
          "output_type": "stream",
          "name": "stdout",
          "text": [
            "Optimal Weights (wopt):\n",
            " [ 1.08273114e+07 -2.72483109e+05 -5.55619402e+07  5.86413461e+04\n",
            "  1.18644618e+08 -6.94192137e+03 -1.16963171e+08  4.88305454e+02\n",
            "  3.04937865e+07 -2.03052797e+01  4.21957137e+07  4.47366307e-01\n",
            " -4.03572564e+07 -2.80633775e-03  1.15514920e+07 -8.67903272e-05\n",
            " -6.21285916e+05  4.95044805e-06  7.07194248e+05 -2.80831174e-07\n",
            " -6.89566188e+04  8.47456893e-09 -5.35035209e+05 -6.66894871e-11\n",
            "  2.27713369e+05 -2.05896078e-12  1.81468450e+04  4.86417402e-14\n",
            " -2.50684308e+04 -3.04018780e-16  3.68493108e+03]\n",
            "Sum of Squared Errors (SSE): 261548.01069404054\n",
            "Mean Squared Error (MSE): 47554.18376255283\n"
          ]
        }
      ]
    }
  ]
}